{
 "cells": [
  {
   "cell_type": "code",
   "execution_count": 1,
   "metadata": {},
   "outputs": [
    {
     "ename": "ArgumentError",
     "evalue": "ArgumentError: Package DataStructures not found in current path:\n- Run `import Pkg; Pkg.add(\"DataStructures\")` to install the DataStructures package.\n",
     "output_type": "error",
     "traceback": [
      "ArgumentError: Package DataStructures not found in current path:\n- Run `import Pkg; Pkg.add(\"DataStructures\")` to install the DataStructures package.\n",
      "",
      "Stacktrace:",
      " [1] require(::Module, ::Symbol) at ./loading.jl:823",
      " [2] top-level scope at In[1]:6"
     ]
    }
   ],
   "source": [
    "using MLDatasets\n",
    "using Distances\n",
    "using Statistics\n",
    "using Clustering\n",
    "using Printf\n",
    "using DataStructures\n",
    "using SumProductNetworks"
   ]
  },
  {
   "cell_type": "code",
   "execution_count": 2,
   "metadata": {
    "scrolled": true
   },
   "outputs": [
    {
     "data": {
      "text/plain": [
       "784×5958 Array{N0f8,2} with eltype FixedPointNumbers.Normed{UInt8,8}:\n",
       " 0.0  0.0  0.0  0.0  0.0  0.0  0.0  0.0  …  0.0  0.0  0.0  0.0  0.0  0.0  0.0\n",
       " 0.0  0.0  0.0  0.0  0.0  0.0  0.0  0.0     0.0  0.0  0.0  0.0  0.0  0.0  0.0\n",
       " 0.0  0.0  0.0  0.0  0.0  0.0  0.0  0.0     0.0  0.0  0.0  0.0  0.0  0.0  0.0\n",
       " 0.0  0.0  0.0  0.0  0.0  0.0  0.0  0.0     0.0  0.0  0.0  0.0  0.0  0.0  0.0\n",
       " 0.0  0.0  0.0  0.0  0.0  0.0  0.0  0.0     0.0  0.0  0.0  0.0  0.0  0.0  0.0\n",
       " 0.0  0.0  0.0  0.0  0.0  0.0  0.0  0.0  …  0.0  0.0  0.0  0.0  0.0  0.0  0.0\n",
       " 0.0  0.0  0.0  0.0  0.0  0.0  0.0  0.0     0.0  0.0  0.0  0.0  0.0  0.0  0.0\n",
       " 0.0  0.0  0.0  0.0  0.0  0.0  0.0  0.0     0.0  0.0  0.0  0.0  0.0  0.0  0.0\n",
       " 0.0  0.0  0.0  0.0  0.0  0.0  0.0  0.0     0.0  0.0  0.0  0.0  0.0  0.0  0.0\n",
       " 0.0  0.0  0.0  0.0  0.0  0.0  0.0  0.0     0.0  0.0  0.0  0.0  0.0  0.0  0.0\n",
       " 0.0  0.0  0.0  0.0  0.0  0.0  0.0  0.0  …  0.0  0.0  0.0  0.0  0.0  0.0  0.0\n",
       " 0.0  0.0  0.0  0.0  0.0  0.0  0.0  0.0     0.0  0.0  0.0  0.0  0.0  0.0  0.0\n",
       " 0.0  0.0  0.0  0.0  0.0  0.0  0.0  0.0     0.0  0.0  0.0  0.0  0.0  0.0  0.0\n",
       " ⋮                        ⋮              ⋱                      ⋮            \n",
       " 0.0  0.0  0.0  0.0  0.0  0.0  0.0  0.0     0.0  0.0  0.0  0.0  0.0  0.0  0.0\n",
       " 0.0  0.0  0.0  0.0  0.0  0.0  0.0  0.0     0.0  0.0  0.0  0.0  0.0  0.0  0.0\n",
       " 0.0  0.0  0.0  0.0  0.0  0.0  0.0  0.0     0.0  0.0  0.0  0.0  0.0  0.0  0.0\n",
       " 0.0  0.0  0.0  0.0  0.0  0.0  0.0  0.0  …  0.0  0.0  0.0  0.0  0.0  0.0  0.0\n",
       " 0.0  0.0  0.0  0.0  0.0  0.0  0.0  0.0     0.0  0.0  0.0  0.0  0.0  0.0  0.0\n",
       " 0.0  0.0  0.0  0.0  0.0  0.0  0.0  0.0     0.0  0.0  0.0  0.0  0.0  0.0  0.0\n",
       " 0.0  0.0  0.0  0.0  0.0  0.0  0.0  0.0     0.0  0.0  0.0  0.0  0.0  0.0  0.0\n",
       " 0.0  0.0  0.0  0.0  0.0  0.0  0.0  0.0     0.0  0.0  0.0  0.0  0.0  0.0  0.0\n",
       " 0.0  0.0  0.0  0.0  0.0  0.0  0.0  0.0  …  0.0  0.0  0.0  0.0  0.0  0.0  0.0\n",
       " 0.0  0.0  0.0  0.0  0.0  0.0  0.0  0.0     0.0  0.0  0.0  0.0  0.0  0.0  0.0\n",
       " 0.0  0.0  0.0  0.0  0.0  0.0  0.0  0.0     0.0  0.0  0.0  0.0  0.0  0.0  0.0\n",
       " 0.0  0.0  0.0  0.0  0.0  0.0  0.0  0.0     0.0  0.0  0.0  0.0  0.0  0.0  0.0"
      ]
     },
     "execution_count": 2,
     "metadata": {},
     "output_type": "execute_result"
    }
   ],
   "source": [
    "train_x, train_y = MNIST.traindata()\n",
    "train_x = MNIST.convert2features(train_x)\n",
    "train_2 = train_x[:, train_y .== 2]"
   ]
  },
  {
   "cell_type": "code",
   "execution_count": 3,
   "metadata": {},
   "outputs": [
    {
     "name": "stdout",
     "output_type": "stream",
     "text": [
      "(784, 5958)\n",
      "Array{FixedPointNumbers.Normed{UInt8,8},2}\n"
     ]
    }
   ],
   "source": [
    "println(size(train_2))\n",
    "println(typeof(train_2))"
   ]
  },
  {
   "cell_type": "code",
   "execution_count": 4,
   "metadata": {},
   "outputs": [
    {
     "data": {
      "text/plain": [
       "clusterinstances (generic function with 1 method)"
      ]
     },
     "execution_count": 4,
     "metadata": {},
     "output_type": "execute_result"
    }
   ],
   "source": [
    "function learnspn_c(data; minclustersize=100)\n",
    "    \"\"\"A minimal implementation of Learn-SPN algorithm\n",
    "    \n",
    "    Repeat sum node and product node in turn to form binary SPNs.\n",
    "    \"\"\"\n",
    "    q = Queue{Tuple}()\n",
    "    root = FiniteSumNode()\n",
    "    variables = collect(1:size(data)[1])\n",
    "    instances = collect(1:size(data)[2])\n",
    "    enqueue!(q, (root, variables, instances))\n",
    "    \n",
    "    while length(q) > 0\n",
    "        node, variables, instances = dequeue!(q)\n",
    "        println(node)\n",
    "        println(length(variables), \" \", length(instances))\n",
    "        # stopping conditions\n",
    "        if length(variables) == 1\n",
    "            v = variables[1]\n",
    "            μ_hat = mean(data[v, :])\n",
    "            σ_hat = std(data[v, :]) + 0.01\n",
    "            add!(node, UnivariateNode(Normal(μ_hat, σ_hat), v))\n",
    "        end\n",
    "        if length(instances) < minclustersize\n",
    "            for v in variables\n",
    "                μ_hat = mean(data[v, :])\n",
    "                σ_hat = std(data[v, :]) + 0.01\n",
    "                add!(node, UnivariateNode(Normal(μ_hat, σ_hat), v))\n",
    "            end\n",
    "        end\n",
    "        # divide and conquer\n",
    "        if typeof(node) <: SumNode\n",
    "            clusterweights = clusterinstances(data, variables, instances)\n",
    "            for (cluster, weight) in clusterweights\n",
    "                prod = FiniteProductNode()\n",
    "                add!(node, prod, log(weight))\n",
    "                enqueue!(q, (prod, variables, cluster))\n",
    "            end\n",
    "        elseif typeof(node) <: ProductNode\n",
    "            splits = splitvariables(data, variables, instances)\n",
    "            for split in splits\n",
    "                sum = FiniteSumNode()\n",
    "                add!(node, sum)\n",
    "                enqueue!(q, (sum, split, instances))\n",
    "            end\n",
    "        else\n",
    "            error(\"encountered unknown node type\")\n",
    "        end\n",
    "    end\n",
    "    \n",
    "    return SumProductNetwork(root)\n",
    "end\n",
    "\n",
    "function splitvariables(data, variables, instances)\n",
    "    \"\"\"Split variables into two groups\n",
    "    \n",
    "    Run G-test (threshold by KL-divergence from observation to expectation).\n",
    "    \"\"\"\n",
    "    function binarize(x)\n",
    "        binary_x = zeros(Int, size(x))\n",
    "        binary_x[x .> mean(x)] .= 1\n",
    "        return binary_x\n",
    "    end\n",
    "    slice = data[variables, instances]\n",
    "    distances = zeros(length(variables))\n",
    "    p = sum(binarize(slice[1, :]))/length(instances)\n",
    "    for i in 1:length(variables)\n",
    "        q = sum(binarize(slice[i, :]))/length(instances)\n",
    "        e = (p + q)/2\n",
    "        d = evaluate(KLDivergence(),\n",
    "                     [p, (1 - p), q, (1 - q)],\n",
    "                     [e, (1 - e), e, (1 - e)])\n",
    "        distances[i] = d\n",
    "    end\n",
    "    splitone = partialsortperm(distances, 1:floor(Integer, length(variables)/2))\n",
    "    splittwo = setdiff(variables, splitone)\n",
    "    return (splitone, splittwo)\n",
    "end\n",
    "\n",
    "function clusterinstances(data, variables, instances)\n",
    "    \"\"\"Cluster instances into two groups\n",
    "    \n",
    "    Run K-means clustering with k=2.\n",
    "    \"\"\"\n",
    "    slice = data[variables, instances]\n",
    "    results = kmeans(slice, 2)\n",
    "    clusterone = instances[results.assignments .== 1]\n",
    "    clustertwo = setdiff(instances, clusterone)\n",
    "    weight = length(clusterone)/length(instances)\n",
    "    return ((clusterone, weight), (clustertwo, 1 - weight))\n",
    "end"
   ]
  },
  {
   "cell_type": "code",
   "execution_count": 5,
   "metadata": {
    "scrolled": true
   },
   "outputs": [
    {
     "ename": "UndefVarError",
     "evalue": "UndefVarError: Queue not defined",
     "output_type": "error",
     "traceback": [
      "UndefVarError: Queue not defined",
      "",
      "Stacktrace:",
      " [1] #learnspn_c#3(::Int64, ::Function, ::Array{FixedPointNumbers.Normed{UInt8,8},2}) at ./In[4]:6",
      " [2] learnspn_c(::Array{FixedPointNumbers.Normed{UInt8,8},2}) at ./In[4]:2",
      " [3] top-level scope at In[5]:1"
     ]
    }
   ],
   "source": [
    "spn = learnspn_c(train_2)"
   ]
  },
  {
   "cell_type": "code",
   "execution_count": 6,
   "metadata": {},
   "outputs": [
    {
     "ename": "UndefVarError",
     "evalue": "UndefVarError: updatescope! not defined",
     "output_type": "error",
     "traceback": [
      "UndefVarError: updatescope! not defined",
      "",
      "Stacktrace:",
      " [1] top-level scope at In[6]:1"
     ]
    }
   ],
   "source": [
    "updatescope!(spn)"
   ]
  },
  {
   "cell_type": "code",
   "execution_count": 7,
   "metadata": {},
   "outputs": [
    {
     "ename": "UndefVarError",
     "evalue": "UndefVarError: initllhvals not defined",
     "output_type": "error",
     "traceback": [
      "UndefVarError: initllhvals not defined",
      "",
      "Stacktrace:",
      " [1] top-level scope at In[7]:1"
     ]
    }
   ],
   "source": [
    "llhvals = initllhvals(spn, train_2[:, 1])\n",
    "logpdf!(spn, train_2[:, 1], llhvals)\n",
    "for node in spn.leaves\n",
    "    println(\"logpdf at $(node.id) = $(llhvals[node.id])\")\n",
    "end"
   ]
  },
  {
   "cell_type": "code",
   "execution_count": 8,
   "metadata": {},
   "outputs": [
    {
     "ename": "UndefVarError",
     "evalue": "UndefVarError: logpdf not defined",
     "output_type": "error",
     "traceback": [
      "UndefVarError: logpdf not defined",
      "",
      "Stacktrace:",
      " [1] top-level scope at In[8]:1"
     ]
    }
   ],
   "source": [
    "logp = logpdf(spn, train_2[:, 1])"
   ]
  },
  {
   "cell_type": "code",
   "execution_count": 9,
   "metadata": {},
   "outputs": [
    {
     "ename": "UndefVarError",
     "evalue": "UndefVarError: logpdf not defined",
     "output_type": "error",
     "traceback": [
      "UndefVarError: logpdf not defined",
      "",
      "Stacktrace:",
      " [1] top-level scope at In[9]:1"
     ]
    }
   ],
   "source": [
    "logp = logpdf(spn, train_x[:, 10])"
   ]
  },
  {
   "cell_type": "code",
   "execution_count": 10,
   "metadata": {},
   "outputs": [
    {
     "ename": "UndefVarError",
     "evalue": "UndefVarError: spn not defined",
     "output_type": "error",
     "traceback": [
      "UndefVarError: spn not defined",
      "",
      "Stacktrace:",
      " [1] top-level scope at In[10]:1"
     ]
    }
   ],
   "source": [
    "spn.leaves"
   ]
  },
  {
   "cell_type": "code",
   "execution_count": 11,
   "metadata": {},
   "outputs": [
    {
     "ename": "UndefVarError",
     "evalue": "UndefVarError: FiniteSumNode not defined",
     "output_type": "error",
     "traceback": [
      "UndefVarError: FiniteSumNode not defined",
      "",
      "Stacktrace:",
      " [1] top-level scope at In[11]:1"
     ]
    }
   ],
   "source": [
    "FiniteSumNode <: SumNode"
   ]
  },
  {
   "cell_type": "code",
   "execution_count": null,
   "metadata": {},
   "outputs": [],
   "source": []
  }
 ],
 "metadata": {
  "kernelspec": {
   "display_name": "Julia 1.1.1",
   "language": "julia",
   "name": "julia-1.1"
  },
  "language_info": {
   "file_extension": ".jl",
   "mimetype": "application/julia",
   "name": "julia",
   "version": "1.1.1"
  }
 },
 "nbformat": 4,
 "nbformat_minor": 2
}
