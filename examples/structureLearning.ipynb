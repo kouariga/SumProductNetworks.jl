{
 "cells": [
  {
   "cell_type": "code",
   "execution_count": 1,
   "metadata": {},
   "outputs": [],
   "source": [
    "using MLDatasets\n",
    "using Distances\n",
    "using Statistics\n",
    "using Clustering\n",
    "using Printf\n",
    "using DataStructures\n",
    "using SumProductNetworks"
   ]
  },
  {
   "cell_type": "code",
   "execution_count": 2,
   "metadata": {
    "scrolled": true
   },
   "outputs": [
    {
     "data": {
      "text/plain": [
       "784×5958 Array{N0f8,2} with eltype FixedPointNumbers.Normed{UInt8,8}:\n",
       " 0.0  0.0  0.0  0.0  0.0  0.0  0.0  0.0  …  0.0  0.0  0.0  0.0  0.0  0.0  0.0\n",
       " 0.0  0.0  0.0  0.0  0.0  0.0  0.0  0.0     0.0  0.0  0.0  0.0  0.0  0.0  0.0\n",
       " 0.0  0.0  0.0  0.0  0.0  0.0  0.0  0.0     0.0  0.0  0.0  0.0  0.0  0.0  0.0\n",
       " 0.0  0.0  0.0  0.0  0.0  0.0  0.0  0.0     0.0  0.0  0.0  0.0  0.0  0.0  0.0\n",
       " 0.0  0.0  0.0  0.0  0.0  0.0  0.0  0.0     0.0  0.0  0.0  0.0  0.0  0.0  0.0\n",
       " 0.0  0.0  0.0  0.0  0.0  0.0  0.0  0.0  …  0.0  0.0  0.0  0.0  0.0  0.0  0.0\n",
       " 0.0  0.0  0.0  0.0  0.0  0.0  0.0  0.0     0.0  0.0  0.0  0.0  0.0  0.0  0.0\n",
       " 0.0  0.0  0.0  0.0  0.0  0.0  0.0  0.0     0.0  0.0  0.0  0.0  0.0  0.0  0.0\n",
       " 0.0  0.0  0.0  0.0  0.0  0.0  0.0  0.0     0.0  0.0  0.0  0.0  0.0  0.0  0.0\n",
       " 0.0  0.0  0.0  0.0  0.0  0.0  0.0  0.0     0.0  0.0  0.0  0.0  0.0  0.0  0.0\n",
       " 0.0  0.0  0.0  0.0  0.0  0.0  0.0  0.0  …  0.0  0.0  0.0  0.0  0.0  0.0  0.0\n",
       " 0.0  0.0  0.0  0.0  0.0  0.0  0.0  0.0     0.0  0.0  0.0  0.0  0.0  0.0  0.0\n",
       " 0.0  0.0  0.0  0.0  0.0  0.0  0.0  0.0     0.0  0.0  0.0  0.0  0.0  0.0  0.0\n",
       " ⋮                        ⋮              ⋱                      ⋮            \n",
       " 0.0  0.0  0.0  0.0  0.0  0.0  0.0  0.0     0.0  0.0  0.0  0.0  0.0  0.0  0.0\n",
       " 0.0  0.0  0.0  0.0  0.0  0.0  0.0  0.0     0.0  0.0  0.0  0.0  0.0  0.0  0.0\n",
       " 0.0  0.0  0.0  0.0  0.0  0.0  0.0  0.0     0.0  0.0  0.0  0.0  0.0  0.0  0.0\n",
       " 0.0  0.0  0.0  0.0  0.0  0.0  0.0  0.0  …  0.0  0.0  0.0  0.0  0.0  0.0  0.0\n",
       " 0.0  0.0  0.0  0.0  0.0  0.0  0.0  0.0     0.0  0.0  0.0  0.0  0.0  0.0  0.0\n",
       " 0.0  0.0  0.0  0.0  0.0  0.0  0.0  0.0     0.0  0.0  0.0  0.0  0.0  0.0  0.0\n",
       " 0.0  0.0  0.0  0.0  0.0  0.0  0.0  0.0     0.0  0.0  0.0  0.0  0.0  0.0  0.0\n",
       " 0.0  0.0  0.0  0.0  0.0  0.0  0.0  0.0     0.0  0.0  0.0  0.0  0.0  0.0  0.0\n",
       " 0.0  0.0  0.0  0.0  0.0  0.0  0.0  0.0  …  0.0  0.0  0.0  0.0  0.0  0.0  0.0\n",
       " 0.0  0.0  0.0  0.0  0.0  0.0  0.0  0.0     0.0  0.0  0.0  0.0  0.0  0.0  0.0\n",
       " 0.0  0.0  0.0  0.0  0.0  0.0  0.0  0.0     0.0  0.0  0.0  0.0  0.0  0.0  0.0\n",
       " 0.0  0.0  0.0  0.0  0.0  0.0  0.0  0.0     0.0  0.0  0.0  0.0  0.0  0.0  0.0"
      ]
     },
     "execution_count": 2,
     "metadata": {},
     "output_type": "execute_result"
    }
   ],
   "source": [
    "train_x, train_y = MNIST.traindata()\n",
    "train_x = MNIST.convert2features(train_x)\n",
    "train_2 = train_x[:, train_y .== 2]"
   ]
  },
  {
   "cell_type": "code",
   "execution_count": 3,
   "metadata": {},
   "outputs": [
    {
     "name": "stdout",
     "output_type": "stream",
     "text": [
      "(784, 5958)\n",
      "Array{FixedPointNumbers.Normed{UInt8,8},2}\n"
     ]
    }
   ],
   "source": [
    "println(size(train_2))\n",
    "println(typeof(train_2))"
   ]
  },
  {
   "cell_type": "code",
   "execution_count": 55,
   "metadata": {},
   "outputs": [
    {
     "data": {
      "text/plain": [
       "clusterinstances (generic function with 1 method)"
      ]
     },
     "execution_count": 55,
     "metadata": {},
     "output_type": "execute_result"
    }
   ],
   "source": [
    "function learnspn_c(data; minclustersize=100)\n",
    "    \"\"\"A minimal implementation of Learn-SPN algorithm\n",
    "    \n",
    "    Repeat sum node and product node in turn to form binary SPNs.\n",
    "    \"\"\"\n",
    "    q = Queue{Tuple}()\n",
    "    root = FiniteSumNode()\n",
    "    variables = collect(1:size(data)[1])\n",
    "    instances = collect(1:size(data)[2])\n",
    "    enqueue!(q, (root, variables, instances))\n",
    "    \n",
    "    while length(q) > 0\n",
    "        node, variables, instances = dequeue!(q)\n",
    "        println(node)\n",
    "        println(length(variables), \" \", length(instances))\n",
    "        # stopping conditions\n",
    "        if length(variables) == 1\n",
    "            v = variables[1]\n",
    "            μ_hat = mean(data[v, :])\n",
    "            σ_hat = std(data[v, :]) + 0.01\n",
    "            add!(node, UnivariateNode(Normal(μ_hat, σ_hat), v))\n",
    "        end\n",
    "        if length(instances) < minclustersize\n",
    "            for v in variables\n",
    "                μ_hat = mean(data[v, :])\n",
    "                σ_hat = std(data[v, :]) + 0.01\n",
    "                add!(node, UnivariateNode(Normal(μ_hat, σ_hat), v))\n",
    "            end\n",
    "        end\n",
    "        # divide and conquer\n",
    "        if typeof(node) <: SumNode\n",
    "            clusterweights = clusterinstances(data, variables, instances)\n",
    "            for (cluster, weight) in clusterweights\n",
    "                prod = FiniteProductNode()\n",
    "                add!(node, prod, log(weight))\n",
    "                enqueue!(q, (prod, variables, cluster))\n",
    "            end\n",
    "        elseif typeof(node) <: ProductNode\n",
    "            splits = splitvariables(data, variables, instances)\n",
    "            for split in splits\n",
    "                sum = FiniteSumNode()\n",
    "                add!(node, sum)\n",
    "                enqueue!(q, (sum, split, instances))\n",
    "            end\n",
    "        else\n",
    "            error(\"encountered unknown node type\")\n",
    "        end\n",
    "    end\n",
    "    \n",
    "    return SumProductNetwork(root)\n",
    "end\n",
    "\n",
    "function splitvariables(data, variables, instances)\n",
    "    \"\"\"Split variables into two groups\n",
    "    \n",
    "    Run G-test (threshold by KL-divergence from observation to expectation).\n",
    "    \"\"\"\n",
    "    function binarize(x)\n",
    "        binary_x = zeros(Int, size(x))\n",
    "        binary_x[x .> mean(x)] .= 1\n",
    "        return binary_x\n",
    "    end\n",
    "    slice = data[variables, instances]\n",
    "    distances = zeros(length(variables))\n",
    "    p = sum(binarize(slice[1, :]))/length(instances)\n",
    "    for i in 1:length(variables)\n",
    "        q = sum(binarize(slice[i, :]))/length(instances)\n",
    "        e = (p + q)/2\n",
    "        d = evaluate(KLDivergence(),\n",
    "                     [p, (1 - p), q, (1 - q)],\n",
    "                     [e, (1 - e), e, (1 - e)])\n",
    "        distances[i] = d\n",
    "    end\n",
    "    splitone = partialsortperm(distances, 1:floor(Integer, length(variables)/2))\n",
    "    splittwo = setdiff(variables, splitone)\n",
    "    return (splitone, splittwo)\n",
    "end\n",
    "\n",
    "function clusterinstances(data, variables, instances)\n",
    "    \"\"\"Cluster instances into two groups\n",
    "    \n",
    "    Run K-means clustering with k=2.\n",
    "    \"\"\"\n",
    "    slice = data[variables, instances]\n",
    "    results = kmeans(slice, 2)\n",
    "    clusterone = instances[results.assignments .== 1]\n",
    "    clustertwo = setdiff(instances, clusterone)\n",
    "    weight = length(clusterone)/length(instances)\n",
    "    return ((clusterone, weight), (clustertwo, 1 - weight))\n",
    "end"
   ]
  },
  {
   "cell_type": "code",
   "execution_count": 56,
   "metadata": {
    "scrolled": true
   },
   "outputs": [
    {
     "name": "stdout",
     "output_type": "stream",
     "text": [
      "FiniteSumNode{Float64}(##sum#2529)\n",
      "\tweights = Float64[]\n",
      "\tnormalized = false\n",
      "\tNo scope set!\n",
      "\n",
      "784 5958\n",
      "FiniteProductNode(##prod#2530)\n",
      "\tNo scope set!\n",
      "\n",
      "784 3384\n",
      "FiniteProductNode(##prod#2531)\n",
      "\tNo scope set!\n",
      "\n",
      "784 2574\n",
      "FiniteSumNode{Float64}(##sum#2532)\n",
      "\tweights = Float64[]\n",
      "\tnormalized = false\n",
      "\tNo scope set!\n",
      "\n",
      "392 3384\n",
      "FiniteSumNode{Float64}(##sum#2533)\n",
      "\tweights = Float64[]\n",
      "\tnormalized = false\n",
      "\tNo scope set!\n",
      "\n",
      "392 3384\n",
      "FiniteSumNode{Float64}(##sum#2534)\n",
      "\tweights = Float64[]\n",
      "\tnormalized = false\n",
      "\tNo scope set!\n",
      "\n",
      "392 2574\n",
      "FiniteSumNode{Float64}(##sum#2535)\n",
      "\tweights = Float64[]\n",
      "\tnormalized = false\n",
      "\tNo scope set!\n",
      "\n",
      "392 2574\n",
      "FiniteProductNode(##prod#2536)\n",
      "\tNo scope set!\n",
      "\n",
      "392 3284\n",
      "FiniteProductNode(##prod#2537)\n",
      "\tNo scope set!\n",
      "\n",
      "392 100\n",
      "FiniteProductNode(##prod#2538)\n",
      "\tNo scope set!\n",
      "\n",
      "392 1892\n",
      "FiniteProductNode(##prod#2539)\n",
      "\tNo scope set!\n",
      "\n",
      "392 1492\n",
      "FiniteProductNode(##prod#2540)\n",
      "\tNo scope set!\n",
      "\n",
      "392 2532\n",
      "FiniteProductNode(##prod#2541)\n",
      "\tNo scope set!\n",
      "\n",
      "392 42\n",
      "FiniteProductNode(##prod#2542)\n",
      "\tNo scope set!\n",
      "\n",
      "392 1196\n",
      "FiniteProductNode(##prod#2543)\n",
      "\tNo scope set!\n",
      "\n",
      "392 1378\n",
      "FiniteSumNode{Float64}(##sum#2544)\n",
      "\tweights = Float64[]\n",
      "\tnormalized = false\n",
      "\tNo scope set!\n",
      "\n",
      "196 3284\n",
      "FiniteSumNode{Float64}(##sum#2545)\n",
      "\tweights = Float64[]\n",
      "\tnormalized = false\n",
      "\tNo scope set!\n",
      "\n",
      "257 3284\n",
      "FiniteSumNode{Float64}(##sum#2546)\n",
      "\tweights = Float64[]\n",
      "\tnormalized = false\n",
      "\tNo scope set!\n",
      "\n",
      "196 100\n",
      "FiniteSumNode{Float64}(##sum#2547)\n",
      "\tweights = Float64[]\n",
      "\tnormalized = false\n",
      "\tNo scope set!\n",
      "\n",
      "257 100\n",
      "FiniteSumNode{Float64}(##sum#2548)\n",
      "\tweights = Float64[]\n",
      "\tnormalized = false\n",
      "\tNo scope set!\n",
      "\n",
      "196 1892\n",
      "FiniteSumNode{Float64}(##sum#2549)\n",
      "\tweights = Float64[]\n",
      "\tnormalized = false\n",
      "\tNo scope set!\n",
      "\n",
      "298 1892\n",
      "FiniteSumNode{Float64}(##sum#2550)\n",
      "\tweights = Float64[]\n",
      "\tnormalized = false\n",
      "\tNo scope set!\n",
      "\n",
      "196 1492\n",
      "FiniteSumNode{Float64}(##sum#2551)\n",
      "\tweights = Float64[]\n",
      "\tnormalized = false\n",
      "\tNo scope set!\n",
      "\n",
      "302 1492\n",
      "FiniteSumNode{Float64}(##sum#2552)\n",
      "\tweights = Float64[]\n",
      "\tnormalized = false\n",
      "\tNo scope set!\n",
      "\n",
      "196 2532\n",
      "FiniteSumNode{Float64}(##sum#2553)\n",
      "\tweights = Float64[]\n",
      "\tnormalized = false\n",
      "\tNo scope set!\n",
      "\n",
      "258 2532\n",
      "FiniteSumNode{Float64}(##sum#2946)\n",
      "\tweights = Float64[]\n",
      "\tnormalized = false\n",
      "\tNo scope set!\n",
      "\n",
      "196 42\n"
     ]
    },
    {
     "ename": "MethodError",
     "evalue": "MethodError: no method matching add!(::FiniteSumNode{Float64}, ::UnivariateNode)\nClosest candidates are:\n  add!(::SumNode, ::SPNNode, !Matched::T<:Real) where T<:Real at /home/kouariga/Research/julia/packages/SumProductNetworks.jl/src/nodeFunctions.jl:162\n  add!(!Matched::ProductNode, ::SPNNode) at /home/kouariga/Research/julia/packages/SumProductNetworks.jl/src/nodeFunctions.jl:170",
     "output_type": "error",
     "traceback": [
      "MethodError: no method matching add!(::FiniteSumNode{Float64}, ::UnivariateNode)\nClosest candidates are:\n  add!(::SumNode, ::SPNNode, !Matched::T<:Real) where T<:Real at /home/kouariga/Research/julia/packages/SumProductNetworks.jl/src/nodeFunctions.jl:162\n  add!(!Matched::ProductNode, ::SPNNode) at /home/kouariga/Research/julia/packages/SumProductNetworks.jl/src/nodeFunctions.jl:170",
      "",
      "Stacktrace:",
      " [1] #learnspn_c#43(::Int64, ::Function, ::Array{FixedPointNumbers.Normed{UInt8,8},2}) at ./In[55]:27",
      " [2] learnspn_c(::Array{FixedPointNumbers.Normed{UInt8,8},2}) at ./In[55]:2",
      " [3] top-level scope at In[56]:1"
     ]
    }
   ],
   "source": [
    "spn = learnspn_c(train_2)"
   ]
  },
  {
   "cell_type": "code",
   "execution_count": 6,
   "metadata": {},
   "outputs": [
    {
     "ename": "UndefVarError",
     "evalue": "UndefVarError: spn not defined",
     "output_type": "error",
     "traceback": [
      "UndefVarError: spn not defined",
      "",
      "Stacktrace:",
      " [1] top-level scope at In[6]:1"
     ]
    }
   ],
   "source": [
    "updatescope!(spn)"
   ]
  },
  {
   "cell_type": "code",
   "execution_count": 7,
   "metadata": {},
   "outputs": [
    {
     "ename": "UndefVarError",
     "evalue": "UndefVarError: spn not defined",
     "output_type": "error",
     "traceback": [
      "UndefVarError: spn not defined",
      "",
      "Stacktrace:",
      " [1] top-level scope at In[7]:1"
     ]
    }
   ],
   "source": [
    "llhvals = initllhvals(spn, train_2[:, 1])\n",
    "logpdf!(spn, train_2[:, 1], llhvals)\n",
    "for node in spn.leaves\n",
    "    println(\"logpdf at $(node.id) = $(llhvals[node.id])\")\n",
    "end"
   ]
  },
  {
   "cell_type": "code",
   "execution_count": 8,
   "metadata": {},
   "outputs": [
    {
     "ename": "UndefVarError",
     "evalue": "UndefVarError: spn not defined",
     "output_type": "error",
     "traceback": [
      "UndefVarError: spn not defined",
      "",
      "Stacktrace:",
      " [1] top-level scope at In[8]:1"
     ]
    }
   ],
   "source": [
    "logp = logpdf(spn, train_2[:, 1])"
   ]
  },
  {
   "cell_type": "code",
   "execution_count": 9,
   "metadata": {},
   "outputs": [
    {
     "ename": "UndefVarError",
     "evalue": "UndefVarError: spn not defined",
     "output_type": "error",
     "traceback": [
      "UndefVarError: spn not defined",
      "",
      "Stacktrace:",
      " [1] top-level scope at In[9]:1"
     ]
    }
   ],
   "source": [
    "logp = logpdf(spn, train_x[:, 10])"
   ]
  },
  {
   "cell_type": "code",
   "execution_count": 10,
   "metadata": {},
   "outputs": [
    {
     "ename": "UndefVarError",
     "evalue": "UndefVarError: spn not defined",
     "output_type": "error",
     "traceback": [
      "UndefVarError: spn not defined",
      "",
      "Stacktrace:",
      " [1] top-level scope at In[10]:1"
     ]
    }
   ],
   "source": [
    "spn.leaves"
   ]
  },
  {
   "cell_type": "code",
   "execution_count": 41,
   "metadata": {},
   "outputs": [
    {
     "data": {
      "text/plain": [
       "true"
      ]
     },
     "execution_count": 41,
     "metadata": {},
     "output_type": "execute_result"
    }
   ],
   "source": [
    "FiniteSumNode <: SumNode"
   ]
  },
  {
   "cell_type": "code",
   "execution_count": null,
   "metadata": {},
   "outputs": [],
   "source": []
  }
 ],
 "metadata": {
  "kernelspec": {
   "display_name": "Julia 1.1.1",
   "language": "julia",
   "name": "julia-1.1"
  },
  "language_info": {
   "file_extension": ".jl",
   "mimetype": "application/julia",
   "name": "julia",
   "version": "1.1.1"
  }
 },
 "nbformat": 4,
 "nbformat_minor": 2
}
